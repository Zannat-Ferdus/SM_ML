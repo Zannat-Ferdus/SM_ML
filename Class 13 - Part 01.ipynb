{
 "cells": [
  {
   "cell_type": "code",
   "execution_count": 1,
   "id": "05cae5fc",
   "metadata": {},
   "outputs": [],
   "source": [
    "import pandas as pd\n",
    "from sklearn.datasets import make_classification"
   ]
  },
  {
   "cell_type": "code",
   "execution_count": 2,
   "id": "1ba8d0da",
   "metadata": {},
   "outputs": [],
   "source": [
    "x,y = make_classification(n_samples=60000, n_features=30)"
   ]
  },
  {
   "cell_type": "code",
   "execution_count": 3,
   "id": "74b34c4f",
   "metadata": {},
   "outputs": [
    {
     "data": {
      "text/plain": [
       "(60000, 30)"
      ]
     },
     "execution_count": 3,
     "metadata": {},
     "output_type": "execute_result"
    }
   ],
   "source": [
    "x.shape"
   ]
  },
  {
   "cell_type": "code",
   "execution_count": 4,
   "id": "ec5e2d15",
   "metadata": {},
   "outputs": [],
   "source": [
    "x = pd.DataFrame(x)\n",
    "y = pd.DataFrame(y)"
   ]
  },
  {
   "cell_type": "code",
   "execution_count": 5,
   "id": "d74e395c",
   "metadata": {},
   "outputs": [
    {
     "data": {
      "text/html": [
       "<div>\n",
       "<style scoped>\n",
       "    .dataframe tbody tr th:only-of-type {\n",
       "        vertical-align: middle;\n",
       "    }\n",
       "\n",
       "    .dataframe tbody tr th {\n",
       "        vertical-align: top;\n",
       "    }\n",
       "\n",
       "    .dataframe thead th {\n",
       "        text-align: right;\n",
       "    }\n",
       "</style>\n",
       "<table border=\"1\" class=\"dataframe\">\n",
       "  <thead>\n",
       "    <tr style=\"text-align: right;\">\n",
       "      <th></th>\n",
       "      <th>0</th>\n",
       "    </tr>\n",
       "  </thead>\n",
       "  <tbody>\n",
       "    <tr>\n",
       "      <th>0</th>\n",
       "      <td>0</td>\n",
       "    </tr>\n",
       "    <tr>\n",
       "      <th>1</th>\n",
       "      <td>0</td>\n",
       "    </tr>\n",
       "    <tr>\n",
       "      <th>2</th>\n",
       "      <td>1</td>\n",
       "    </tr>\n",
       "    <tr>\n",
       "      <th>3</th>\n",
       "      <td>1</td>\n",
       "    </tr>\n",
       "    <tr>\n",
       "      <th>4</th>\n",
       "      <td>1</td>\n",
       "    </tr>\n",
       "  </tbody>\n",
       "</table>\n",
       "</div>"
      ],
      "text/plain": [
       "   0\n",
       "0  0\n",
       "1  0\n",
       "2  1\n",
       "3  1\n",
       "4  1"
      ]
     },
     "execution_count": 5,
     "metadata": {},
     "output_type": "execute_result"
    }
   ],
   "source": [
    "y.head()"
   ]
  },
  {
   "cell_type": "code",
   "execution_count": 6,
   "id": "9e752034",
   "metadata": {},
   "outputs": [
    {
     "data": {
      "text/html": [
       "<div>\n",
       "<style scoped>\n",
       "    .dataframe tbody tr th:only-of-type {\n",
       "        vertical-align: middle;\n",
       "    }\n",
       "\n",
       "    .dataframe tbody tr th {\n",
       "        vertical-align: top;\n",
       "    }\n",
       "\n",
       "    .dataframe thead th {\n",
       "        text-align: right;\n",
       "    }\n",
       "</style>\n",
       "<table border=\"1\" class=\"dataframe\">\n",
       "  <thead>\n",
       "    <tr style=\"text-align: right;\">\n",
       "      <th></th>\n",
       "      <th>0</th>\n",
       "      <th>1</th>\n",
       "      <th>2</th>\n",
       "      <th>3</th>\n",
       "      <th>4</th>\n",
       "      <th>5</th>\n",
       "      <th>6</th>\n",
       "      <th>7</th>\n",
       "      <th>8</th>\n",
       "      <th>9</th>\n",
       "      <th>...</th>\n",
       "      <th>20</th>\n",
       "      <th>21</th>\n",
       "      <th>22</th>\n",
       "      <th>23</th>\n",
       "      <th>24</th>\n",
       "      <th>25</th>\n",
       "      <th>26</th>\n",
       "      <th>27</th>\n",
       "      <th>28</th>\n",
       "      <th>29</th>\n",
       "    </tr>\n",
       "  </thead>\n",
       "  <tbody>\n",
       "    <tr>\n",
       "      <th>0</th>\n",
       "      <td>-0.787366</td>\n",
       "      <td>0.951718</td>\n",
       "      <td>-0.771778</td>\n",
       "      <td>-1.568489</td>\n",
       "      <td>1.236280</td>\n",
       "      <td>0.424766</td>\n",
       "      <td>3.512850</td>\n",
       "      <td>-0.923963</td>\n",
       "      <td>-0.635506</td>\n",
       "      <td>-0.583872</td>\n",
       "      <td>...</td>\n",
       "      <td>0.990751</td>\n",
       "      <td>0.147478</td>\n",
       "      <td>-0.103855</td>\n",
       "      <td>-0.643013</td>\n",
       "      <td>0.433612</td>\n",
       "      <td>-0.996112</td>\n",
       "      <td>-1.004143</td>\n",
       "      <td>-0.592153</td>\n",
       "      <td>1.156860</td>\n",
       "      <td>1.484847</td>\n",
       "    </tr>\n",
       "    <tr>\n",
       "      <th>1</th>\n",
       "      <td>-0.048975</td>\n",
       "      <td>-0.325975</td>\n",
       "      <td>0.063432</td>\n",
       "      <td>-0.237028</td>\n",
       "      <td>-0.102370</td>\n",
       "      <td>-0.161583</td>\n",
       "      <td>-0.170235</td>\n",
       "      <td>0.567557</td>\n",
       "      <td>0.296854</td>\n",
       "      <td>-1.086326</td>\n",
       "      <td>...</td>\n",
       "      <td>1.185113</td>\n",
       "      <td>1.439159</td>\n",
       "      <td>-0.042055</td>\n",
       "      <td>1.935234</td>\n",
       "      <td>0.926938</td>\n",
       "      <td>1.277302</td>\n",
       "      <td>0.475316</td>\n",
       "      <td>1.388890</td>\n",
       "      <td>-1.440972</td>\n",
       "      <td>0.337903</td>\n",
       "    </tr>\n",
       "    <tr>\n",
       "      <th>2</th>\n",
       "      <td>-0.529720</td>\n",
       "      <td>0.482276</td>\n",
       "      <td>2.211107</td>\n",
       "      <td>-0.285189</td>\n",
       "      <td>0.323866</td>\n",
       "      <td>-0.897630</td>\n",
       "      <td>-0.278376</td>\n",
       "      <td>-0.075020</td>\n",
       "      <td>-0.707066</td>\n",
       "      <td>0.775627</td>\n",
       "      <td>...</td>\n",
       "      <td>-0.033632</td>\n",
       "      <td>0.747616</td>\n",
       "      <td>-0.150594</td>\n",
       "      <td>-0.500131</td>\n",
       "      <td>1.128873</td>\n",
       "      <td>0.952985</td>\n",
       "      <td>-0.917975</td>\n",
       "      <td>-0.228438</td>\n",
       "      <td>0.245289</td>\n",
       "      <td>1.113158</td>\n",
       "    </tr>\n",
       "    <tr>\n",
       "      <th>3</th>\n",
       "      <td>-0.271548</td>\n",
       "      <td>-0.643386</td>\n",
       "      <td>-0.454180</td>\n",
       "      <td>2.299462</td>\n",
       "      <td>-0.268572</td>\n",
       "      <td>0.269706</td>\n",
       "      <td>-0.469172</td>\n",
       "      <td>-0.389315</td>\n",
       "      <td>-1.105301</td>\n",
       "      <td>-0.333129</td>\n",
       "      <td>...</td>\n",
       "      <td>2.536781</td>\n",
       "      <td>0.873958</td>\n",
       "      <td>-0.217711</td>\n",
       "      <td>-0.565054</td>\n",
       "      <td>-0.655489</td>\n",
       "      <td>-0.263242</td>\n",
       "      <td>-0.931444</td>\n",
       "      <td>-0.574483</td>\n",
       "      <td>-0.542360</td>\n",
       "      <td>-0.089643</td>\n",
       "    </tr>\n",
       "    <tr>\n",
       "      <th>4</th>\n",
       "      <td>-0.316427</td>\n",
       "      <td>1.734933</td>\n",
       "      <td>-0.441163</td>\n",
       "      <td>1.026505</td>\n",
       "      <td>0.457847</td>\n",
       "      <td>-0.767900</td>\n",
       "      <td>-0.338602</td>\n",
       "      <td>0.822912</td>\n",
       "      <td>-1.222412</td>\n",
       "      <td>1.981283</td>\n",
       "      <td>...</td>\n",
       "      <td>-0.337366</td>\n",
       "      <td>0.860220</td>\n",
       "      <td>-0.234393</td>\n",
       "      <td>0.183947</td>\n",
       "      <td>-0.086572</td>\n",
       "      <td>-0.605974</td>\n",
       "      <td>-1.559997</td>\n",
       "      <td>-0.713783</td>\n",
       "      <td>1.424516</td>\n",
       "      <td>-0.443501</td>\n",
       "    </tr>\n",
       "  </tbody>\n",
       "</table>\n",
       "<p>5 rows × 30 columns</p>\n",
       "</div>"
      ],
      "text/plain": [
       "         0         1         2         3         4         5         6   \\\n",
       "0 -0.787366  0.951718 -0.771778 -1.568489  1.236280  0.424766  3.512850   \n",
       "1 -0.048975 -0.325975  0.063432 -0.237028 -0.102370 -0.161583 -0.170235   \n",
       "2 -0.529720  0.482276  2.211107 -0.285189  0.323866 -0.897630 -0.278376   \n",
       "3 -0.271548 -0.643386 -0.454180  2.299462 -0.268572  0.269706 -0.469172   \n",
       "4 -0.316427  1.734933 -0.441163  1.026505  0.457847 -0.767900 -0.338602   \n",
       "\n",
       "         7         8         9   ...        20        21        22        23  \\\n",
       "0 -0.923963 -0.635506 -0.583872  ...  0.990751  0.147478 -0.103855 -0.643013   \n",
       "1  0.567557  0.296854 -1.086326  ...  1.185113  1.439159 -0.042055  1.935234   \n",
       "2 -0.075020 -0.707066  0.775627  ... -0.033632  0.747616 -0.150594 -0.500131   \n",
       "3 -0.389315 -1.105301 -0.333129  ...  2.536781  0.873958 -0.217711 -0.565054   \n",
       "4  0.822912 -1.222412  1.981283  ... -0.337366  0.860220 -0.234393  0.183947   \n",
       "\n",
       "         24        25        26        27        28        29  \n",
       "0  0.433612 -0.996112 -1.004143 -0.592153  1.156860  1.484847  \n",
       "1  0.926938  1.277302  0.475316  1.388890 -1.440972  0.337903  \n",
       "2  1.128873  0.952985 -0.917975 -0.228438  0.245289  1.113158  \n",
       "3 -0.655489 -0.263242 -0.931444 -0.574483 -0.542360 -0.089643  \n",
       "4 -0.086572 -0.605974 -1.559997 -0.713783  1.424516 -0.443501  \n",
       "\n",
       "[5 rows x 30 columns]"
      ]
     },
     "execution_count": 6,
     "metadata": {},
     "output_type": "execute_result"
    }
   ],
   "source": [
    "x.head()"
   ]
  },
  {
   "cell_type": "code",
   "execution_count": 7,
   "id": "0772565f",
   "metadata": {},
   "outputs": [
    {
     "data": {
      "text/plain": [
       "1    30001\n",
       "0    29999\n",
       "dtype: int64"
      ]
     },
     "execution_count": 7,
     "metadata": {},
     "output_type": "execute_result"
    }
   ],
   "source": [
    "y.value_counts()"
   ]
  },
  {
   "cell_type": "code",
   "execution_count": 8,
   "id": "baacd4c9",
   "metadata": {},
   "outputs": [],
   "source": [
    "from sklearn.model_selection import train_test_split"
   ]
  },
  {
   "cell_type": "code",
   "execution_count": 9,
   "id": "9181d2fb",
   "metadata": {},
   "outputs": [],
   "source": [
    "xtrain,xtest, ytrain, ytest = train_test_split(x,y,test_size=.25)"
   ]
  },
  {
   "cell_type": "code",
   "execution_count": 10,
   "id": "f67fc0b0",
   "metadata": {},
   "outputs": [],
   "source": [
    "from sklearn.tree import DecisionTreeClassifier"
   ]
  },
  {
   "cell_type": "code",
   "execution_count": 11,
   "id": "541d2f4d",
   "metadata": {},
   "outputs": [],
   "source": [
    "train_score = []\n",
    "test_score = []"
   ]
  },
  {
   "cell_type": "code",
   "execution_count": 12,
   "id": "ab81f031",
   "metadata": {},
   "outputs": [
    {
     "name": "stdout",
     "output_type": "stream",
     "text": [
      "When Depth = 1, Training Score = 0.941178, Testing Scores = 0.935133\n",
      "When Depth = 2, Training Score = 0.941178, Testing Scores = 0.935133\n",
      "When Depth = 3, Training Score = 0.977044, Testing Scores = 0.973067\n",
      "When Depth = 4, Training Score = 0.979133, Testing Scores = 0.975467\n",
      "When Depth = 5, Training Score = 0.980133, Testing Scores = 0.976933\n",
      "When Depth = 6, Training Score = 0.981356, Testing Scores = 0.977733\n",
      "When Depth = 7, Training Score = 0.982444, Testing Scores = 0.977667\n",
      "When Depth = 8, Training Score = 0.983733, Testing Scores = 0.977000\n",
      "When Depth = 9, Training Score = 0.984467, Testing Scores = 0.977000\n",
      "When Depth = 10, Training Score = 0.986022, Testing Scores = 0.976067\n",
      "When Depth = 11, Training Score = 0.987444, Testing Scores = 0.975733\n",
      "When Depth = 12, Training Score = 0.988711, Testing Scores = 0.975400\n",
      "When Depth = 13, Training Score = 0.990022, Testing Scores = 0.974467\n",
      "When Depth = 14, Training Score = 0.990911, Testing Scores = 0.973467\n",
      "When Depth = 15, Training Score = 0.991867, Testing Scores = 0.973733\n",
      "When Depth = 16, Training Score = 0.992356, Testing Scores = 0.973867\n",
      "When Depth = 17, Training Score = 0.992889, Testing Scores = 0.972867\n",
      "When Depth = 18, Training Score = 0.993400, Testing Scores = 0.973333\n",
      "When Depth = 19, Training Score = 0.993756, Testing Scores = 0.972467\n",
      "When Depth = 20, Training Score = 0.994311, Testing Scores = 0.971667\n",
      "When Depth = 21, Training Score = 0.994600, Testing Scores = 0.972667\n",
      "When Depth = 22, Training Score = 0.994933, Testing Scores = 0.970467\n",
      "When Depth = 23, Training Score = 0.995289, Testing Scores = 0.970267\n",
      "When Depth = 24, Training Score = 0.995933, Testing Scores = 0.969667\n",
      "When Depth = 25, Training Score = 0.996333, Testing Scores = 0.968533\n",
      "When Depth = 26, Training Score = 0.996667, Testing Scores = 0.967933\n",
      "When Depth = 27, Training Score = 0.997067, Testing Scores = 0.969267\n",
      "When Depth = 28, Training Score = 0.997356, Testing Scores = 0.968467\n",
      "When Depth = 29, Training Score = 0.997556, Testing Scores = 0.966933\n"
     ]
    }
   ],
   "source": [
    "max_dep = [n for n in range(1,30)]\n",
    "\n",
    "for depth in max_dep:\n",
    "    clf = DecisionTreeClassifier(max_depth=depth)\n",
    "    clf.fit(xtrain, ytrain)\n",
    "    \n",
    "    #train scores\n",
    "    train_acc = clf.score(xtrain, ytrain)\n",
    "    train_score.append(train_acc)\n",
    "    \n",
    "    #testing scores\n",
    "    test_acc = clf.score(xtest, ytest)\n",
    "    test_score.append(test_acc)\n",
    "    \n",
    "    print('When Depth = %d, Training Score = %f, Testing Scores = %f' %(depth, train_acc, test_acc))"
   ]
  },
  {
   "cell_type": "code",
   "execution_count": 13,
   "id": "7c15e8f9",
   "metadata": {},
   "outputs": [],
   "source": [
    "from matplotlib import pyplot as plt"
   ]
  },
  {
   "cell_type": "code",
   "execution_count": 14,
   "id": "dc84283e",
   "metadata": {},
   "outputs": [
    {
     "data": {
      "text/plain": [
       "[<matplotlib.lines.Line2D at 0x1e63bf11d60>]"
      ]
     },
     "execution_count": 14,
     "metadata": {},
     "output_type": "execute_result"
    },
    {
     "data": {
      "image/png": "[encoded data removed]",
      "text/plain": [
       "<Figure size 640x480 with 1 Axes>"
      ]
     },
     "metadata": {},
     "output_type": "display_data"
    }
   ],
   "source": [
    "plt.plot(max_dep , train_score, '-o', color='green',label='training')\n",
    "plt.plot(max_dep , test_score,'-o', color='blue',label='testing')"
   ]
  },
  {
   "cell_type": "code",
   "execution_count": 15,
   "id": "2668bb8f",
   "metadata": {},
   "outputs": [],
   "source": [
    "dt = DecisionTreeClassifier(max_depth=10)"
   ]
  },
  {
   "cell_type": "code",
   "execution_count": 16,
   "id": "5ae2f906",
   "metadata": {},
   "outputs": [
    {
     "data": {
      "text/plain": [
       "DecisionTreeClassifier(max_depth=10)"
      ]
     },
     "execution_count": 16,
     "metadata": {},
     "output_type": "execute_result"
    }
   ],
   "source": [
    "dt.fit(xtrain, ytrain)"
   ]
  },
  {
   "cell_type": "code",
   "execution_count": 17,
   "id": "7775ac63",
   "metadata": {},
   "outputs": [
    {
     "data": {
      "text/plain": [
       "0.9766"
      ]
     },
     "execution_count": 17,
     "metadata": {},
     "output_type": "execute_result"
    }
   ],
   "source": [
    "dt.score(xtest, ytest)"
   ]
  },
  {
   "cell_type": "code",
   "execution_count": 18,
   "id": "58179b9f",
   "metadata": {},
   "outputs": [
    {
     "data": {
      "text/plain": [
       "0.9766"
      ]
     },
     "execution_count": 18,
     "metadata": {},
     "output_type": "execute_result"
    }
   ],
   "source": [
    "dt.score(xtest, ytest)\n"
   ]
  },
  {
   "cell_type": "code",
   "execution_count": 19,
   "id": "c4d90dca",
   "metadata": {},
   "outputs": [
    {
     "data": {
      "text/plain": [
       "0.9859777777777777"
      ]
     },
     "execution_count": 19,
     "metadata": {},
     "output_type": "execute_result"
    }
   ],
   "source": [
    "dt.score(xtrain, ytrain)"
   ]
  },
  {
   "cell_type": "code",
   "execution_count": null,
   "id": "8fb576b9",
   "metadata": {},
   "outputs": [],
   "source": []
  }
 ],
 "metadata": {
  "kernelspec": {
   "display_name": "Python 3",
   "language": "python",
   "name": "python3"
  },
  "language_info": {
   "codemirror_mode": {
    "name": "ipython",
    "version": 3
   },
   "file_extension": ".py",
   "mimetype": "text/x-python",
   "name": "python",
   "nbconvert_exporter": "python",
   "pygments_lexer": "ipython3",
   "version": "3.11.4"
  }
 },
 "nbformat": 4,
 "nbformat_minor": 5
}
